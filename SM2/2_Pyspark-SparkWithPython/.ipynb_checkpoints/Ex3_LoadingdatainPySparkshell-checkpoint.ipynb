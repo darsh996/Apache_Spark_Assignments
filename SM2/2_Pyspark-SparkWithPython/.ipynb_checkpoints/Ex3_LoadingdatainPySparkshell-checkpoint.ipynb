{
 "cells": [
  {
   "cell_type": "markdown",
   "id": "7db297df",
   "metadata": {},
   "source": [
    "# Loading data in PySpark shell\n",
    "\n",
    "- In PySpark, we express our computation through operations on distributed collections that are automatically parallelized across the cluster. In the previous exercise, you have seen an example of loading a list as parallelized collections and in this exercise, you'll load the data from a local file in PySpark shell.\n",
    "\n",
    "- Remember you already have a `SparkContext` `sc` and `file_path` variable (which is the path to the README.md file) already available in your workspace."
   ]
  },
  {
   "cell_type": "markdown",
   "id": "fd59a35f",
   "metadata": {},
   "source": [
    "## Instructions\n",
    "\n",
    "-Load a local text file README.md in PySpark shell."
   ]
  },
  {
   "cell_type": "code",
   "execution_count": 1,
   "id": "24bc5dd4",
   "metadata": {},
   "outputs": [],
   "source": [
    "# Intialization\n",
    "import os\n",
    "import sys\n",
    "\n",
    "os.environ[\"SPARK_HOME\"] = \"/home/talentum/spark\"\n",
    "os.environ[\"PYLIB\"] = os.environ[\"SPARK_HOME\"] + \"/python/lib\"\n",
    "# In below two lines, use /usr/bin/python2.7 if you want to use Python 2\n",
    "os.environ[\"PYSPARK_PYTHON\"] = \"/usr/bin/python3.6\" \n",
    "os.environ[\"PYSPARK_DRIVER_PYTHON\"] = \"/usr/bin/python3\"\n",
    "sys.path.insert(0, os.environ[\"PYLIB\"] +\"/py4j-0.10.7-src.zip\")\n",
    "sys.path.insert(0, os.environ[\"PYLIB\"] +\"/pyspark.zip\")\n",
    "\n",
    "# NOTE: Whichever package you want mention here.\n",
    "# os.environ['PYSPARK_SUBMIT_ARGS'] = '--packages com.databricks:spark-xml_2.11:0.6.0 pyspark-shell' \n",
    "# os.environ['PYSPARK_SUBMIT_ARGS'] = '--packages org.apache.spark:spark-avro_2.11:2.4.0 pyspark-shell'\n",
    "os.environ['PYSPARK_SUBMIT_ARGS'] = '--packages com.databricks:spark-xml_2.11:0.6.0,org.apache.spark:spark-avro_2.11:2.4.3 pyspark-shell'\n",
    "# os.environ['PYSPARK_SUBMIT_ARGS'] = '--packages com.databricks:spark-xml_2.11:0.6.0,org.apache.spark:spark-avro_2.11:2.4.0 pyspark-shell'"
   ]
  },
  {
   "cell_type": "code",
   "execution_count": 2,
   "id": "6cc69a92",
   "metadata": {},
   "outputs": [],
   "source": [
    "#Entrypoint 2.x\n",
    "from pyspark.sql import SparkSession\n",
    "spark = SparkSession.builder.appName(\"Spark SQL basic example\").enableHiveSupport().getOrCreate()\n",
    "\n",
    "# On yarn:\n",
    "# spark = SparkSession.builder.appName(\"Spark SQL basic example\").enableHiveSupport().master(\"yarn\").getOrCreate()\n",
    "# specify .master(\"yarn\")\n",
    "\n",
    "sc = spark.sparkContext"
   ]
  },
  {
   "cell_type": "code",
   "execution_count": 8,
   "id": "5b342b0f",
   "metadata": {},
   "outputs": [
    {
     "name": "stdout",
     "output_type": "stream",
     "text": [
      "<class 'pyspark.rdd.RDD'>\n"
     ]
    }
   ],
   "source": [
    "file_path = 'file:////home/talentum/spark/README.md'\n",
    "# Load a local file into PySpark shell\n",
    "lines = sc.textFile(file_path)\n",
    "# now data went to memory\n",
    "print(type(lines))"
   ]
  },
  {
   "cell_type": "code",
   "execution_count": 7,
   "id": "f10e8457",
   "metadata": {},
   "outputs": [
    {
     "data": {
      "text/plain": [
       "104"
      ]
     },
     "execution_count": 7,
     "metadata": {},
     "output_type": "execute_result"
    }
   ],
   "source": [
    "lines.count()"
   ]
  },
  {
   "cell_type": "code",
   "execution_count": 9,
   "id": "15c31d8d",
   "metadata": {},
   "outputs": [
    {
     "name": "stdout",
     "output_type": "stream",
     "text": [
      "['# Apache Spark', '', 'Spark is a fast and general cluster computing system for Big Data. It provides', 'high-level APIs in Scala, Java, Python, and R, and an optimized engine that', 'supports general computation graphs for data analysis. It also supports a']\n"
     ]
    }
   ],
   "source": [
    "print(lines.take(5))"
   ]
  },
  {
   "cell_type": "code",
   "execution_count": 13,
   "id": "a0514ebd",
   "metadata": {},
   "outputs": [
    {
     "name": "stdout",
     "output_type": "stream",
     "text": [
      "['# Apache Spark', '', 'Spark is a fast and general cluster computing system for Big Data. It provides', 'high-level APIs in Scala, Java, Python, and R, and an optimized engine that', 'supports general computation graphs for data analysis. It also supports a', 'rich set of higher-level tools including Spark SQL for SQL and DataFrames,', 'MLlib for machine learning, GraphX for graph processing,', 'and Spark Streaming for stream processing.', '', '<http://spark.apache.org/>', '', '', '## Online Documentation', '', 'You can find the latest Spark documentation, including a programming', 'guide, on the [project web page](http://spark.apache.org/documentation.html).', 'This README file only contains basic setup instructions.', '', '## Building Spark', '', 'Spark is built using [Apache Maven](http://maven.apache.org/).', 'To build Spark and its example programs, run:', '', '    build/mvn -DskipTests clean package', '', '(You do not need to do this if you downloaded a pre-built package.)', '', 'More detailed documentation is available from the project site, at', '[\"Building Spark\"](http://spark.apache.org/docs/latest/building-spark.html).', '', 'For general development tips, including info on developing Spark using an IDE, see [\"Useful Developer Tools\"](http://spark.apache.org/developer-tools.html).', '', '## Interactive Scala Shell', '', 'The easiest way to start using Spark is through the Scala shell:', '', '    ./bin/spark-shell', '', 'Try the following command, which should return 1000:', '', '    scala> sc.parallelize(1 to 1000).count()', '', '## Interactive Python Shell', '', 'Alternatively, if you prefer Python, you can use the Python shell:', '', '    ./bin/pyspark', '', 'And run the following command, which should also return 1000:', '', '    >>> sc.parallelize(range(1000)).count()', '', '## Example Programs', '', 'Spark also comes with several sample programs in the `examples` directory.', 'To run one of them, use `./bin/run-example <class> [params]`. For example:', '', '    ./bin/run-example SparkPi', '', 'will run the Pi example locally.', '', 'You can set the MASTER environment variable when running examples to submit', 'examples to a cluster. This can be a mesos:// or spark:// URL,', '\"yarn\" to run on YARN, and \"local\" to run', 'locally with one thread, or \"local[N]\" to run locally with N threads. You', 'can also use an abbreviated class name if the class is in the `examples`', 'package. For instance:', '', '    MASTER=spark://host:7077 ./bin/run-example SparkPi', '', 'Many of the example programs print usage help if no params are given.', '', '## Running Tests', '', 'Testing first requires [building Spark](#building-spark). Once Spark is built, tests', 'can be run using:', '', '    ./dev/run-tests', '', 'Please see the guidance on how to', '[run tests for a module, or individual tests](http://spark.apache.org/developer-tools.html#individual-tests).', '', 'There is also a Kubernetes integration test, see resource-managers/kubernetes/integration-tests/README.md', '', '## A Note About Hadoop Versions', '', 'Spark uses the Hadoop core library to talk to HDFS and other Hadoop-supported', 'storage systems. Because the protocols have changed in different versions of', 'Hadoop, you must build Spark against the same version that your cluster runs.', '', 'Please refer to the build documentation at', '[\"Specifying the Hadoop Version and Enabling YARN\"](http://spark.apache.org/docs/latest/building-spark.html#specifying-the-hadoop-version-and-enabling-yarn)', 'for detailed guidance on building for a particular distribution of Hadoop, including', 'building for particular Hive and Hive Thriftserver distributions.', '', '## Configuration', '', 'Please refer to the [Configuration Guide](http://spark.apache.org/docs/latest/configuration.html)', 'in the online documentation for an overview on how to configure Spark.', '', '## Contributing', '', 'Please review the [Contribution to Spark guide](http://spark.apache.org/contributing.html)', 'for information on how to get started contributing to the project.']\n"
     ]
    }
   ],
   "source": [
    "print(lines.take(lines.count()))"
   ]
  },
  {
   "cell_type": "code",
   "execution_count": 14,
   "id": "e2602775",
   "metadata": {},
   "outputs": [
    {
     "name": "stdout",
     "output_type": "stream",
     "text": [
      "# Apache Spark..Spark is a fast and general cluster computing system for Big Data. It provides.high-level APIs in Scala, Java, Python, and R, and an optimized engine that.supports general computation graphs for data analysis. It also supports a.rich set of higher-level tools including Spark SQL for SQL and DataFrames,.MLlib for machine learning, GraphX for graph processing,.and Spark Streaming for stream processing...<http://spark.apache.org/>...## Online Documentation..You can find the latest Spark documentation, including a programming.guide, on the [project web page](http://spark.apache.org/documentation.html)..This README file only contains basic setup instructions...## Building Spark..Spark is built using [Apache Maven](http://maven.apache.org/)..To build Spark and its example programs, run:..    build/mvn -DskipTests clean package..(You do not need to do this if you downloaded a pre-built package.)..More detailed documentation is available from the project site, at.[\"Building Spark\"](http://spark.apache.org/docs/latest/building-spark.html)...For general development tips, including info on developing Spark using an IDE, see [\"Useful Developer Tools\"](http://spark.apache.org/developer-tools.html)...## Interactive Scala Shell..The easiest way to start using Spark is through the Scala shell:..    ./bin/spark-shell..Try the following command, which should return 1000:..    scala> sc.parallelize(1 to 1000).count()..## Interactive Python Shell..Alternatively, if you prefer Python, you can use the Python shell:..    ./bin/pyspark..And run the following command, which should also return 1000:..    >>> sc.parallelize(range(1000)).count()..## Example Programs..Spark also comes with several sample programs in the `examples` directory..To run one of them, use `./bin/run-example <class> [params]`. For example:..    ./bin/run-example SparkPi..will run the Pi example locally...You can set the MASTER environment variable when running examples to submit.examples to a cluster. This can be a mesos:// or spark:// URL,.\"yarn\" to run on YARN, and \"local\" to run.locally with one thread, or \"local[N]\" to run locally with N threads. You.can also use an abbreviated class name if the class is in the `examples`.package. For instance:..    MASTER=spark://host:7077 ./bin/run-example SparkPi..Many of the example programs print usage help if no params are given...## Running Tests..Testing first requires [building Spark](#building-spark). Once Spark is built, tests.can be run using:..    ./dev/run-tests..Please see the guidance on how to.[run tests for a module, or individual tests](http://spark.apache.org/developer-tools.html#individual-tests)...There is also a Kubernetes integration test, see resource-managers/kubernetes/integration-tests/README.md..## A Note About Hadoop Versions..Spark uses the Hadoop core library to talk to HDFS and other Hadoop-supported.storage systems. Because the protocols have changed in different versions of.Hadoop, you must build Spark against the same version that your cluster runs...Please refer to the build documentation at.[\"Specifying the Hadoop Version and Enabling YARN\"](http://spark.apache.org/docs/latest/building-spark.html#specifying-the-hadoop-version-and-enabling-yarn).for detailed guidance on building for a particular distribution of Hadoop, including.building for particular Hive and Hive Thriftserver distributions...## Configuration..Please refer to the [Configuration Guide](http://spark.apache.org/docs/latest/configuration.html).in the online documentation for an overview on how to configure Spark...## Contributing..Please review the [Contribution to Spark guide](http://spark.apache.org/contributing.html).for information on how to get started contributing to the project.\n"
     ]
    }
   ],
   "source": [
    "# Convert RDD to a list and join the lines with a delimiter\n",
    "lines_list = lines.collect()\n",
    "lines_joined = '.'.join(lines_list)\n",
    "\n",
    "# Print the joined lines\n",
    "print(lines_joined)\n"
   ]
  },
  {
   "cell_type": "code",
   "execution_count": null,
   "id": "dab5c08b",
   "metadata": {},
   "outputs": [],
   "source": []
  }
 ],
 "metadata": {
  "kernelspec": {
   "display_name": "Python 3",
   "language": "python",
   "name": "python3"
  },
  "language_info": {
   "codemirror_mode": {
    "name": "ipython",
    "version": 3
   },
   "file_extension": ".py",
   "mimetype": "text/x-python",
   "name": "python",
   "nbconvert_exporter": "python",
   "pygments_lexer": "ipython3",
   "version": "3.6.9"
  }
 },
 "nbformat": 4,
 "nbformat_minor": 5
}
